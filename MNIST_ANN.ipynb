{
 "cells": [
  {
   "cell_type": "markdown",
   "metadata": {},
   "source": [
    "# Problem statement\n",
    "Design an ANN ( Feed Forward ANN ) to identify handwritten digits ( MNIST dataset )"
   ]
  },
  {
   "cell_type": "markdown",
   "metadata": {},
   "source": [
    "# Importing libraries"
   ]
  },
  {
   "cell_type": "code",
   "execution_count": 1,
   "metadata": {},
   "outputs": [
    {
     "name": "stderr",
     "output_type": "stream",
     "text": [
      "Using Theano backend.\n"
     ]
    }
   ],
   "source": [
    "import keras\n",
    "from keras.datasets import mnist\n",
    "from keras.models import Sequential\n",
    "from keras.layers import Dense, Dropout\n",
    "import matplotlib.pyplot as plt\n",
    "import numpy as np\n",
    "np.random.seed(2017)"
   ]
  },
  {
   "cell_type": "markdown",
   "metadata": {},
   "source": [
    "# Loading the dataset"
   ]
  },
  {
   "cell_type": "code",
   "execution_count": 2,
   "metadata": {
    "collapsed": true
   },
   "outputs": [],
   "source": [
    "# the data, split between train and test sets\n",
    "(x_train, y_train), (x_test, y_test) = mnist.load_data()"
   ]
  },
  {
   "cell_type": "markdown",
   "metadata": {},
   "source": [
    "# Preprocessing data\n"
   ]
  },
  {
   "cell_type": "code",
   "execution_count": 3,
   "metadata": {},
   "outputs": [
    {
     "name": "stdout",
     "output_type": "stream",
     "text": [
      "60000 train samples\n",
      "10000 test samples\n"
     ]
    }
   ],
   "source": [
    "#Flatten image\n",
    "x_train = x_train.reshape(60000, 784)\n",
    "x_test = x_test.reshape(10000, 784)\n",
    "x_train = x_train.astype('float32')\n",
    "x_test = x_test.astype('float32')\n",
    "#Normalize pixel data\n",
    "x_train /= 255\n",
    "x_test /= 255\n",
    "print(x_train.shape[0], 'train samples')\n",
    "print(x_test.shape[0], 'test samples')"
   ]
  },
  {
   "cell_type": "code",
   "execution_count": 4,
   "metadata": {
    "collapsed": true
   },
   "outputs": [],
   "source": [
    "# convert class vectors to binary class matrices\n",
    "num_classes = 10\n",
    "y_train = keras.utils.to_categorical(y_train, num_classes)\n",
    "y_test = keras.utils.to_categorical(y_test, num_classes)"
   ]
  },
  {
   "cell_type": "markdown",
   "metadata": {},
   "source": [
    "## Initially we consider batch size of 128 and 10 epochs"
   ]
  },
  {
   "cell_type": "code",
   "execution_count": 5,
   "metadata": {
    "collapsed": true
   },
   "outputs": [],
   "source": [
    "batch_size = 128\n",
    "epochs = 10"
   ]
  },
  {
   "cell_type": "markdown",
   "metadata": {},
   "source": [
    "# First model: \n",
    "- 1 hidden layer with 512 nodes with relu activation\n",
    "- Output layer uses softmax activation"
   ]
  },
  {
   "cell_type": "code",
   "execution_count": 6,
   "metadata": {
    "collapsed": true
   },
   "outputs": [],
   "source": [
    "#Initialise model\n",
    "model = Sequential()\n",
    "#Add input and hidden layer\n",
    "model.add(Dense(512, activation='relu', input_shape=(784,)))\n",
    "#Add output layer\n",
    "model.add(Dense(num_classes, activation='softmax'))"
   ]
  },
  {
   "cell_type": "code",
   "execution_count": 7,
   "metadata": {},
   "outputs": [
    {
     "name": "stdout",
     "output_type": "stream",
     "text": [
      "_________________________________________________________________\n",
      "Layer (type)                 Output Shape              Param #   \n",
      "=================================================================\n",
      "dense_1 (Dense)              (None, 512)               401920    \n",
      "_________________________________________________________________\n",
      "dense_2 (Dense)              (None, 10)                5130      \n",
      "=================================================================\n",
      "Total params: 407,050\n",
      "Trainable params: 407,050\n",
      "Non-trainable params: 0\n",
      "_________________________________________________________________\n"
     ]
    }
   ],
   "source": [
    "#Print model information\n",
    "model.summary()"
   ]
  },
  {
   "cell_type": "code",
   "execution_count": 8,
   "metadata": {
    "collapsed": true
   },
   "outputs": [],
   "source": [
    "#Compiling model: Using categorical crossentropy loss function and sgd optimiser \n",
    "model.compile(loss='categorical_crossentropy',\n",
    "              optimizer=keras.optimizers.SGD(lr=0.01, momentum=0.0, nesterov=False),\n",
    "              metrics=['accuracy'])\n"
   ]
  },
  {
   "cell_type": "code",
   "execution_count": 9,
   "metadata": {},
   "outputs": [
    {
     "name": "stdout",
     "output_type": "stream",
     "text": [
      "Train on 60000 samples, validate on 10000 samples\n",
      "Epoch 1/10\n",
      "60000/60000 [==============================] - 3s - loss: 1.1048 - acc: 0.7543 - val_loss: 0.6035 - val_acc: 0.8629\n",
      "Epoch 2/10\n",
      "60000/60000 [==============================] - 3s - loss: 0.5241 - acc: 0.8704 - val_loss: 0.4358 - val_acc: 0.8891\n",
      "Epoch 3/10\n",
      "60000/60000 [==============================] - 3s - loss: 0.4215 - acc: 0.8890 - val_loss: 0.3754 - val_acc: 0.9002\n",
      "Epoch 4/10\n",
      "60000/60000 [==============================] - 2s - loss: 0.3750 - acc: 0.8980 - val_loss: 0.3420 - val_acc: 0.9071\n",
      "Epoch 5/10\n",
      "60000/60000 [==============================] - 3s - loss: 0.3464 - acc: 0.9037 - val_loss: 0.3205 - val_acc: 0.9133\n",
      "Epoch 6/10\n",
      "60000/60000 [==============================] - 3s - loss: 0.3260 - acc: 0.9087 - val_loss: 0.3036 - val_acc: 0.9170\n",
      "Epoch 7/10\n",
      "60000/60000 [==============================] - 3s - loss: 0.3099 - acc: 0.9133 - val_loss: 0.2910 - val_acc: 0.9192\n",
      "Epoch 8/10\n",
      "60000/60000 [==============================] - 3s - loss: 0.2966 - acc: 0.9168 - val_loss: 0.2802 - val_acc: 0.9225\n",
      "Epoch 9/10\n",
      "60000/60000 [==============================] - 3s - loss: 0.2854 - acc: 0.9200 - val_loss: 0.2705 - val_acc: 0.9243\n",
      "Epoch 10/10\n",
      "60000/60000 [==============================] - 4s - loss: 0.2755 - acc: 0.9222 - val_loss: 0.2613 - val_acc: 0.9258\n",
      "Test loss: 0.261310408142\n",
      "Test accuracy: 0.9258\n"
     ]
    }
   ],
   "source": [
    "#Training model\n",
    "history = model.fit(x_train, y_train,\n",
    "                    batch_size=batch_size,\n",
    "                    epochs=epochs,\n",
    "                    verbose=1,\n",
    "                    validation_data=(x_test, y_test))\n",
    "#Evaluating model\n",
    "score = model.evaluate(x_test, y_test, verbose=0)\n",
    "print('Test loss:', score[0])\n",
    "print('Test accuracy:', score[1])"
   ]
  },
  {
   "cell_type": "markdown",
   "metadata": {},
   "source": [
    "# Second Model:\n",
    "- 2 hidden layer with 512 nodes with relu activation\n",
    "- Output layer uses softmax activation"
   ]
  },
  {
   "cell_type": "code",
   "execution_count": 10,
   "metadata": {
    "collapsed": true
   },
   "outputs": [],
   "source": [
    "#Initialise model\n",
    "model = Sequential()\n",
    "#Add input and 1st hidden layer\n",
    "model.add(Dense(512, activation='relu', input_shape=(784,)))\n",
    "#Add 2nd hidden layer\n",
    "model.add(Dense(512, activation='relu'))\n",
    "#Add output layer\n",
    "model.add(Dense(num_classes, activation='softmax'))"
   ]
  },
  {
   "cell_type": "code",
   "execution_count": 11,
   "metadata": {
    "scrolled": true
   },
   "outputs": [
    {
     "name": "stdout",
     "output_type": "stream",
     "text": [
      "_________________________________________________________________\n",
      "Layer (type)                 Output Shape              Param #   \n",
      "=================================================================\n",
      "dense_3 (Dense)              (None, 512)               401920    \n",
      "_________________________________________________________________\n",
      "dense_4 (Dense)              (None, 512)               262656    \n",
      "_________________________________________________________________\n",
      "dense_5 (Dense)              (None, 10)                5130      \n",
      "=================================================================\n",
      "Total params: 669,706\n",
      "Trainable params: 669,706\n",
      "Non-trainable params: 0\n",
      "_________________________________________________________________\n"
     ]
    }
   ],
   "source": [
    "#Print model information\n",
    "model.summary()"
   ]
  },
  {
   "cell_type": "code",
   "execution_count": 12,
   "metadata": {
    "collapsed": true
   },
   "outputs": [],
   "source": [
    "#Compiling model: Using categorical crossentropy loss function and sgd optimiser \n",
    "model.compile(loss='categorical_crossentropy',\n",
    "              optimizer=keras.optimizers.SGD(lr=0.01, momentum=0.0, nesterov=False),\n",
    "              metrics=['accuracy'])\n"
   ]
  },
  {
   "cell_type": "code",
   "execution_count": 13,
   "metadata": {},
   "outputs": [
    {
     "name": "stdout",
     "output_type": "stream",
     "text": [
      "Train on 60000 samples, validate on 10000 samples\n",
      "Epoch 1/10\n",
      "60000/60000 [==============================] - 12s - loss: 1.1186 - acc: 0.7496 - val_loss: 0.5250 - val_acc: 0.8752\n",
      "Epoch 2/10\n",
      "60000/60000 [==============================] - 11s - loss: 0.4505 - acc: 0.8812 - val_loss: 0.3695 - val_acc: 0.9013\n",
      "Epoch 3/10\n",
      "60000/60000 [==============================] - 10s - loss: 0.3586 - acc: 0.8999 - val_loss: 0.3173 - val_acc: 0.9099\n",
      "Epoch 4/10\n",
      "60000/60000 [==============================] - 11s - loss: 0.3176 - acc: 0.9099 - val_loss: 0.2878 - val_acc: 0.9205\n",
      "Epoch 5/10\n",
      "60000/60000 [==============================] - 10s - loss: 0.2915 - acc: 0.9174 - val_loss: 0.2674 - val_acc: 0.9245\n",
      "Epoch 6/10\n",
      "60000/60000 [==============================] - 10s - loss: 0.2717 - acc: 0.9230 - val_loss: 0.2511 - val_acc: 0.9298\n",
      "Epoch 7/10\n",
      "60000/60000 [==============================] - 10s - loss: 0.2560 - acc: 0.9272 - val_loss: 0.2423 - val_acc: 0.9333\n",
      "Epoch 8/10\n",
      "60000/60000 [==============================] - 10s - loss: 0.2425 - acc: 0.9312 - val_loss: 0.2288 - val_acc: 0.9351.93\n",
      "Epoch 9/10\n",
      "60000/60000 [==============================] - 11s - loss: 0.2304 - acc: 0.9348 - val_loss: 0.2202 - val_acc: 0.9377\n",
      "Epoch 10/10\n",
      "60000/60000 [==============================] - 11s - loss: 0.2200 - acc: 0.9374 - val_loss: 0.2120 - val_acc: 0.9382\n",
      "Test loss: 0.211956237541\n",
      "Test accuracy: 0.9382\n"
     ]
    }
   ],
   "source": [
    "#Training model\n",
    "history = model.fit(x_train, y_train,\n",
    "                    batch_size=batch_size,\n",
    "                    epochs=epochs,\n",
    "                    verbose=1,\n",
    "                    validation_data=(x_test, y_test))\n",
    "#Evaluating model\n",
    "score = model.evaluate(x_test, y_test, verbose=0)\n",
    "print('Test loss:', score[0])\n",
    "print('Test accuracy:', score[1])"
   ]
  },
  {
   "cell_type": "markdown",
   "metadata": {},
   "source": [
    "# Third Model:\n",
    "- 1 hidden layer with 512 nodes with sigmoid activation\n",
    "- Output layer uses softmax activation\n",
    "\n",
    "\n",
    "\n"
   ]
  },
  {
   "cell_type": "code",
   "execution_count": 14,
   "metadata": {
    "collapsed": true
   },
   "outputs": [],
   "source": [
    "#Initialise model\n",
    "model = Sequential()\n",
    "#Add input and hidden layer\n",
    "model.add(Dense(512, activation='sigmoid', input_shape=(784,)))\n",
    "#Add output layer\n",
    "model.add(Dense(num_classes, activation='softmax'))"
   ]
  },
  {
   "cell_type": "code",
   "execution_count": 15,
   "metadata": {
    "scrolled": true
   },
   "outputs": [
    {
     "name": "stdout",
     "output_type": "stream",
     "text": [
      "_________________________________________________________________\n",
      "Layer (type)                 Output Shape              Param #   \n",
      "=================================================================\n",
      "dense_6 (Dense)              (None, 512)               401920    \n",
      "_________________________________________________________________\n",
      "dense_7 (Dense)              (None, 10)                5130      \n",
      "=================================================================\n",
      "Total params: 407,050\n",
      "Trainable params: 407,050\n",
      "Non-trainable params: 0\n",
      "_________________________________________________________________\n"
     ]
    }
   ],
   "source": [
    "#Print model information\n",
    "model.summary()"
   ]
  },
  {
   "cell_type": "code",
   "execution_count": 16,
   "metadata": {
    "collapsed": true
   },
   "outputs": [],
   "source": [
    "#Compiling model: Using categorical crossentropy loss function and sgd optimiser \n",
    "model.compile(loss='categorical_crossentropy',\n",
    "              optimizer=keras.optimizers.SGD(lr=0.01, momentum=0.0, nesterov=False),\n",
    "              metrics=['accuracy'])\n"
   ]
  },
  {
   "cell_type": "code",
   "execution_count": 17,
   "metadata": {
    "scrolled": true
   },
   "outputs": [
    {
     "name": "stdout",
     "output_type": "stream",
     "text": [
      "Train on 60000 samples, validate on 10000 samples\n",
      "Epoch 1/10\n",
      "60000/60000 [==============================] - 9s - loss: 1.9563 - acc: 0.5307 - val_loss: 1.6145 - val_acc: 0.7358\n",
      "Epoch 2/10\n",
      "60000/60000 [==============================] - 9s - loss: 1.3817 - acc: 0.7611 - val_loss: 1.1564 - val_acc: 0.7999\n",
      "Epoch 3/10\n",
      "60000/60000 [==============================] - 8s - loss: 1.0336 - acc: 0.8090 - val_loss: 0.8975 - val_acc: 0.8272\n",
      "Epoch 4/10\n",
      "60000/60000 [==============================] - 9s - loss: 0.8359 - acc: 0.8318 - val_loss: 0.7481 - val_acc: 0.8460\n",
      "Epoch 5/10\n",
      "60000/60000 [==============================] - 9s - loss: 0.7166 - acc: 0.8451 - val_loss: 0.6535 - val_acc: 0.8581\n",
      "Epoch 6/10\n",
      "60000/60000 [==============================] - 9s - loss: 0.6384 - acc: 0.8552 - val_loss: 0.5888 - val_acc: 0.8672\n",
      "Epoch 7/10\n",
      "60000/60000 [==============================] - 9s - loss: 0.5836 - acc: 0.8626 - val_loss: 0.5416 - val_acc: 0.8709\n",
      "Epoch 8/10\n",
      "60000/60000 [==============================] - 9s - loss: 0.5430 - acc: 0.8677 - val_loss: 0.5064 - val_acc: 0.8762\n",
      "Epoch 9/10\n",
      "60000/60000 [==============================] - 9s - loss: 0.5119 - acc: 0.8723 - val_loss: 0.4795 - val_acc: 0.8802\n",
      "Epoch 10/10\n",
      "60000/60000 [==============================] - 9s - loss: 0.4872 - acc: 0.8764 - val_loss: 0.4573 - val_acc: 0.8835\n",
      "Test loss: 0.45727905581\n",
      "Test accuracy: 0.8835\n"
     ]
    }
   ],
   "source": [
    "history = model.fit(x_train, y_train,\n",
    "                    batch_size=batch_size,\n",
    "                    epochs=epochs,\n",
    "                    verbose=1,\n",
    "                    validation_data=(x_test, y_test))\n",
    "score = model.evaluate(x_test, y_test, verbose=0)\n",
    "print('Test loss:', score[0])\n",
    "print('Test accuracy:', score[1])"
   ]
  },
  {
   "cell_type": "markdown",
   "metadata": {},
   "source": [
    "# Fourth Model:\n",
    "- 2 hidden layer with 512 nodes with sigmoid activation\n",
    "- Output layer uses softmax activation"
   ]
  },
  {
   "cell_type": "code",
   "execution_count": 18,
   "metadata": {
    "collapsed": true
   },
   "outputs": [],
   "source": [
    "#Initialise model\n",
    "model = Sequential()\n",
    "#Add input and 1st hidden layer\n",
    "model.add(Dense(512, activation='sigmoid', input_shape=(784,)))\n",
    "#Add 2nd hidden layer\n",
    "model.add(Dense(512, activation='sigmoid'))\n",
    "#Add output layer\n",
    "model.add(Dense(num_classes, activation='softmax'))"
   ]
  },
  {
   "cell_type": "code",
   "execution_count": 19,
   "metadata": {},
   "outputs": [
    {
     "name": "stdout",
     "output_type": "stream",
     "text": [
      "_________________________________________________________________\n",
      "Layer (type)                 Output Shape              Param #   \n",
      "=================================================================\n",
      "dense_8 (Dense)              (None, 512)               401920    \n",
      "_________________________________________________________________\n",
      "dense_9 (Dense)              (None, 512)               262656    \n",
      "_________________________________________________________________\n",
      "dense_10 (Dense)             (None, 10)                5130      \n",
      "=================================================================\n",
      "Total params: 669,706\n",
      "Trainable params: 669,706\n",
      "Non-trainable params: 0\n",
      "_________________________________________________________________\n"
     ]
    }
   ],
   "source": [
    "#Print model information\n",
    "model.summary()"
   ]
  },
  {
   "cell_type": "code",
   "execution_count": 20,
   "metadata": {
    "collapsed": true
   },
   "outputs": [],
   "source": [
    "#Compiling model: Using categorical crossentropy loss function and sgd optimiser\n",
    "model.compile(loss='categorical_crossentropy',\n",
    "              optimizer=keras.optimizers.SGD(lr=0.01, momentum=0.0, nesterov=False),\n",
    "              metrics=['accuracy'])\n"
   ]
  },
  {
   "cell_type": "code",
   "execution_count": 21,
   "metadata": {},
   "outputs": [
    {
     "name": "stdout",
     "output_type": "stream",
     "text": [
      "Train on 60000 samples, validate on 10000 samples\n",
      "Epoch 1/10\n",
      "60000/60000 [==============================] - 17s - loss: 2.2694 - acc: 0.2013 - val_loss: 2.2288 - val_acc: 0.3223\n",
      "Epoch 2/10\n",
      "60000/60000 [==============================] - 17s - loss: 2.1863 - acc: 0.3811 - val_loss: 2.1337 - val_acc: 0.4811\n",
      "Epoch 3/10\n",
      "60000/60000 [==============================] - 16s - loss: 2.0766 - acc: 0.5276 - val_loss: 1.9972 - val_acc: 0.6421\n",
      "Epoch 4/10\n",
      "60000/60000 [==============================] - 16s - loss: 1.9150 - acc: 0.6062 - val_loss: 1.8022 - val_acc: 0.6409\n",
      "Epoch 5/10\n",
      "60000/60000 [==============================] - 16s - loss: 1.6927 - acc: 0.6556 - val_loss: 1.5525 - val_acc: 0.7362\n",
      "Epoch 6/10\n",
      "60000/60000 [==============================] - 16s - loss: 1.4434 - acc: 0.6970 - val_loss: 1.3060 - val_acc: 0.7541\n",
      "Epoch 7/10\n",
      "60000/60000 [==============================] - 12s - loss: 1.2203 - acc: 0.7353 - val_loss: 1.1078 - val_acc: 0.7609\n",
      "Epoch 8/10\n",
      "60000/60000 [==============================] - 7s - loss: 1.0482 - acc: 0.7665 - val_loss: 0.9614 - val_acc: 0.7894\n",
      "Epoch 9/10\n",
      "60000/60000 [==============================] - 6s - loss: 0.9211 - acc: 0.7873 - val_loss: 0.8521 - val_acc: 0.7934\n",
      "Epoch 10/10\n",
      "60000/60000 [==============================] - 6s - loss: 0.8258 - acc: 0.8042 - val_loss: 0.7688 - val_acc: 0.8144\n",
      "Test loss: 0.768779523563\n",
      "Test accuracy: 0.8144\n"
     ]
    }
   ],
   "source": [
    "#Training model\n",
    "history = model.fit(x_train, y_train,\n",
    "                    batch_size=batch_size,\n",
    "                    epochs=epochs,\n",
    "                    verbose=1,\n",
    "                    validation_data=(x_test, y_test))\n",
    "#Evaluating model\n",
    "score = model.evaluate(x_test, y_test, verbose=0)\n",
    "print('Test loss:', score[0])\n",
    "print('Test accuracy:', score[1])"
   ]
  },
  {
   "cell_type": "markdown",
   "metadata": {},
   "source": [
    "# Fifth Model:\n",
    "- 1 hidden layer with 512 nodes with tanh activation\n",
    "- Output layer uses softmax activation"
   ]
  },
  {
   "cell_type": "code",
   "execution_count": 22,
   "metadata": {
    "collapsed": true
   },
   "outputs": [],
   "source": [
    "#Initialise model\n",
    "model = Sequential()\n",
    "#Add input and 1st hidden layer\n",
    "model.add(Dense(512, activation='tanh', input_shape=(784,)))\n",
    "#Add output layer\n",
    "model.add(Dense(num_classes, activation='softmax'))"
   ]
  },
  {
   "cell_type": "code",
   "execution_count": 23,
   "metadata": {},
   "outputs": [
    {
     "name": "stdout",
     "output_type": "stream",
     "text": [
      "_________________________________________________________________\n",
      "Layer (type)                 Output Shape              Param #   \n",
      "=================================================================\n",
      "dense_11 (Dense)             (None, 512)               401920    \n",
      "_________________________________________________________________\n",
      "dense_12 (Dense)             (None, 10)                5130      \n",
      "=================================================================\n",
      "Total params: 407,050\n",
      "Trainable params: 407,050\n",
      "Non-trainable params: 0\n",
      "_________________________________________________________________\n"
     ]
    }
   ],
   "source": [
    "#Print model information\n",
    "model.summary()"
   ]
  },
  {
   "cell_type": "code",
   "execution_count": 24,
   "metadata": {
    "collapsed": true
   },
   "outputs": [],
   "source": [
    "#Compiling model: Using categorical crossentropy loss function and sgd optimiser\n",
    "model.compile(loss='categorical_crossentropy',\n",
    "              optimizer=keras.optimizers.SGD(lr=0.01, momentum=0.0, nesterov=False),\n",
    "              metrics=['accuracy'])\n"
   ]
  },
  {
   "cell_type": "code",
   "execution_count": 25,
   "metadata": {},
   "outputs": [
    {
     "name": "stdout",
     "output_type": "stream",
     "text": [
      "Train on 60000 samples, validate on 10000 samples\n",
      "Epoch 1/10\n",
      "60000/60000 [==============================] - 3s - loss: 0.9374 - acc: 0.7750 - val_loss: 0.5455 - val_acc: 0.8667\n",
      "Epoch 2/10\n",
      "60000/60000 [==============================] - 4s - loss: 0.4975 - acc: 0.8704 - val_loss: 0.4270 - val_acc: 0.8886\n",
      "Epoch 3/10\n",
      "60000/60000 [==============================] - 4s - loss: 0.4221 - acc: 0.8851 - val_loss: 0.3798 - val_acc: 0.8962\n",
      "Epoch 4/10\n",
      "60000/60000 [==============================] - 4s - loss: 0.3860 - acc: 0.8928 - val_loss: 0.3543 - val_acc: 0.9015\n",
      "Epoch 5/10\n",
      "60000/60000 [==============================] - 4s - loss: 0.3638 - acc: 0.8981 - val_loss: 0.3375 - val_acc: 0.9061\n",
      "Epoch 6/10\n",
      "60000/60000 [==============================] - 5s - loss: 0.3482 - acc: 0.9016 - val_loss: 0.3254 - val_acc: 0.9094\n",
      "Epoch 7/10\n",
      "60000/60000 [==============================] - 4s - loss: 0.3364 - acc: 0.9051 - val_loss: 0.3160 - val_acc: 0.9114\n",
      "Epoch 8/10\n",
      "60000/60000 [==============================] - 4s - loss: 0.3270 - acc: 0.9072 - val_loss: 0.3101 - val_acc: 0.9121\n",
      "Epoch 9/10\n",
      "60000/60000 [==============================] - 4s - loss: 0.3193 - acc: 0.9094 - val_loss: 0.3039 - val_acc: 0.9149\n",
      "Epoch 10/10\n",
      "60000/60000 [==============================] - 4s - loss: 0.3127 - acc: 0.9113 - val_loss: 0.2979 - val_acc: 0.9169\n",
      "Test loss: 0.297877052099\n",
      "Test accuracy: 0.9169\n"
     ]
    }
   ],
   "source": [
    "#Training model\n",
    "history = model.fit(x_train, y_train,\n",
    "                    batch_size=batch_size,\n",
    "                    epochs=epochs,\n",
    "                    verbose=1,\n",
    "                    validation_data=(x_test, y_test))\n",
    "#Evaluating model\n",
    "score = model.evaluate(x_test, y_test, verbose=0)\n",
    "print('Test loss:', score[0])\n",
    "print('Test accuracy:', score[1])"
   ]
  },
  {
   "cell_type": "markdown",
   "metadata": {},
   "source": [
    "# Sixth Model:\n",
    "- 2 hidden layer with 512 nodes with tanh activation\n",
    "- Output layer uses softmax activation"
   ]
  },
  {
   "cell_type": "code",
   "execution_count": 26,
   "metadata": {
    "collapsed": true
   },
   "outputs": [],
   "source": [
    "#Initialise model\n",
    "model = Sequential()\n",
    "#Add input and 1st hidden layer\n",
    "model.add(Dense(512, activation='tanh', input_shape=(784,)))\n",
    "#Add 2nd hidden layer\n",
    "model.add(Dense(512, activation='tanh'))\n",
    "#Add output layer\n",
    "model.add(Dense(num_classes, activation='softmax'))"
   ]
  },
  {
   "cell_type": "code",
   "execution_count": 27,
   "metadata": {},
   "outputs": [
    {
     "name": "stdout",
     "output_type": "stream",
     "text": [
      "_________________________________________________________________\n",
      "Layer (type)                 Output Shape              Param #   \n",
      "=================================================================\n",
      "dense_13 (Dense)             (None, 512)               401920    \n",
      "_________________________________________________________________\n",
      "dense_14 (Dense)             (None, 512)               262656    \n",
      "_________________________________________________________________\n",
      "dense_15 (Dense)             (None, 10)                5130      \n",
      "=================================================================\n",
      "Total params: 669,706\n",
      "Trainable params: 669,706\n",
      "Non-trainable params: 0\n",
      "_________________________________________________________________\n"
     ]
    }
   ],
   "source": [
    "#Print model information\n",
    "model.summary()"
   ]
  },
  {
   "cell_type": "code",
   "execution_count": 28,
   "metadata": {
    "collapsed": true
   },
   "outputs": [],
   "source": [
    "#Compiling model: Using categorical crossentropy loss function and sgd optimiser\n",
    "model.compile(loss='categorical_crossentropy',\n",
    "              optimizer=keras.optimizers.SGD(lr=0.01, momentum=0.0, nesterov=False),\n",
    "              metrics=['accuracy'])\n"
   ]
  },
  {
   "cell_type": "code",
   "execution_count": 29,
   "metadata": {},
   "outputs": [
    {
     "name": "stdout",
     "output_type": "stream",
     "text": [
      "Train on 60000 samples, validate on 10000 samples\n",
      "Epoch 1/10\n",
      "60000/60000 [==============================] - 7s - loss: 0.8065 - acc: 0.8069 - val_loss: 0.4555 - val_acc: 0.8831\n",
      "Epoch 2/10\n",
      "60000/60000 [==============================] - 7s - loss: 0.4232 - acc: 0.8857 - val_loss: 0.3666 - val_acc: 0.9003\n",
      "Epoch 3/10\n",
      "60000/60000 [==============================] - 7s - loss: 0.3659 - acc: 0.8980 - val_loss: 0.3330 - val_acc: 0.9076\n",
      "Epoch 4/10\n",
      "60000/60000 [==============================] - 7s - loss: 0.3379 - acc: 0.9052 - val_loss: 0.3152 - val_acc: 0.9121\n",
      "Epoch 5/10\n",
      "60000/60000 [==============================] - 7s - loss: 0.3206 - acc: 0.9090 - val_loss: 0.3008 - val_acc: 0.9156\n",
      "Epoch 6/10\n",
      "60000/60000 [==============================] - 7s - loss: 0.3076 - acc: 0.9123 - val_loss: 0.2908 - val_acc: 0.9172\n",
      "Epoch 7/10\n",
      "60000/60000 [==============================] - 7s - loss: 0.2973 - acc: 0.9154 - val_loss: 0.2834 - val_acc: 0.9201\n",
      "Epoch 8/10\n",
      "60000/60000 [==============================] - 7s - loss: 0.2887 - acc: 0.9179 - val_loss: 0.2774 - val_acc: 0.9211\n",
      "Epoch 9/10\n",
      "60000/60000 [==============================] - 10s - loss: 0.2812 - acc: 0.9204 - val_loss: 0.2704 - val_acc: 0.9227\n",
      "Epoch 10/10\n",
      "60000/60000 [==============================] - 17s - loss: 0.2746 - acc: 0.9222 - val_loss: 0.2651 - val_acc: 0.9238\n",
      "Test loss: 0.265148718074\n",
      "Test accuracy: 0.9238\n"
     ]
    }
   ],
   "source": [
    "#Training model\n",
    "history = model.fit(x_train, y_train,\n",
    "                    batch_size=batch_size,\n",
    "                    epochs=epochs,\n",
    "                    verbose=1,\n",
    "                    validation_data=(x_test, y_test))\n",
    "#Evaluating model\n",
    "score = model.evaluate(x_test, y_test, verbose=0)\n",
    "print('Test loss:', score[0])\n",
    "print('Test accuracy:', score[1])"
   ]
  },
  {
   "cell_type": "markdown",
   "metadata": {},
   "source": [
    "## Choosing the best model: 2 hidden layers with relu and output layer with softmax activation and increasing the number of epochs to 20"
   ]
  },
  {
   "cell_type": "code",
   "execution_count": 30,
   "metadata": {
    "collapsed": true
   },
   "outputs": [],
   "source": [
    "epochs=20"
   ]
  },
  {
   "cell_type": "code",
   "execution_count": 31,
   "metadata": {
    "collapsed": true
   },
   "outputs": [],
   "source": [
    "#Initialise model\n",
    "model = Sequential()\n",
    "#Add input and 1st hidden layer\n",
    "model.add(Dense(512, activation='relu', input_shape=(784,)))\n",
    "#Add 2nd hidden layer\n",
    "model.add(Dense(512, activation='relu'))\n",
    "#Add output layer\n",
    "model.add(Dense(num_classes, activation='softmax'))"
   ]
  },
  {
   "cell_type": "code",
   "execution_count": 32,
   "metadata": {},
   "outputs": [
    {
     "name": "stdout",
     "output_type": "stream",
     "text": [
      "_________________________________________________________________\n",
      "Layer (type)                 Output Shape              Param #   \n",
      "=================================================================\n",
      "dense_16 (Dense)             (None, 512)               401920    \n",
      "_________________________________________________________________\n",
      "dense_17 (Dense)             (None, 512)               262656    \n",
      "_________________________________________________________________\n",
      "dense_18 (Dense)             (None, 10)                5130      \n",
      "=================================================================\n",
      "Total params: 669,706\n",
      "Trainable params: 669,706\n",
      "Non-trainable params: 0\n",
      "_________________________________________________________________\n"
     ]
    }
   ],
   "source": [
    "#Print model information\n",
    "model.summary()"
   ]
  },
  {
   "cell_type": "code",
   "execution_count": 33,
   "metadata": {
    "collapsed": true
   },
   "outputs": [],
   "source": [
    "#Compiling model: Using categorical crossentropy loss function and sgd optimiser\n",
    "model.compile(loss='categorical_crossentropy',\n",
    "              optimizer=keras.optimizers.SGD(lr=0.01, momentum=0.0, nesterov=False),\n",
    "              metrics=['accuracy'])\n"
   ]
  },
  {
   "cell_type": "code",
   "execution_count": 34,
   "metadata": {},
   "outputs": [
    {
     "name": "stdout",
     "output_type": "stream",
     "text": [
      "Train on 60000 samples, validate on 10000 samples\n",
      "Epoch 1/20\n",
      "60000/60000 [==============================] - 12s - loss: 1.0846 - acc: 0.7670 - val_loss: 0.5156 - val_acc: 0.8759\n",
      "Epoch 2/20\n",
      "60000/60000 [==============================] - 11s - loss: 0.4443 - acc: 0.8856 - val_loss: 0.3670 - val_acc: 0.9001\n",
      "Epoch 3/20\n",
      "60000/60000 [==============================] - 10s - loss: 0.3553 - acc: 0.9027 - val_loss: 0.3179 - val_acc: 0.9090\n",
      "Epoch 4/20\n",
      "60000/60000 [==============================] - 10s - loss: 0.3155 - acc: 0.9121 - val_loss: 0.2871 - val_acc: 0.9193\n",
      "Epoch 5/20\n",
      "60000/60000 [==============================] - 10s - loss: 0.2893 - acc: 0.9182 - val_loss: 0.2685 - val_acc: 0.9253\n",
      "Epoch 6/20\n",
      "60000/60000 [==============================] - 11s - loss: 0.2700 - acc: 0.9240 - val_loss: 0.2528 - val_acc: 0.9281\n",
      "Epoch 7/20\n",
      "60000/60000 [==============================] - 11s - loss: 0.2544 - acc: 0.9283 - val_loss: 0.2416 - val_acc: 0.9315.927 - ETA: 1\n",
      "Epoch 8/20\n",
      "60000/60000 [==============================] - 10s - loss: 0.2411 - acc: 0.9320 - val_loss: 0.2283 - val_acc: 0.9350\n",
      "Epoch 9/20\n",
      "60000/60000 [==============================] - 10s - loss: 0.2294 - acc: 0.9355 - val_loss: 0.2201 - val_acc: 0.9382\n",
      "Epoch 10/20\n",
      "60000/60000 [==============================] - 9s - loss: 0.2188 - acc: 0.9387 - val_loss: 0.2100 - val_acc: 0.9403\n",
      "Epoch 11/20\n",
      "60000/60000 [==============================] - 9s - loss: 0.2094 - acc: 0.9413 - val_loss: 0.2020 - val_acc: 0.9430\n",
      "Epoch 12/20\n",
      "60000/60000 [==============================] - 10s - loss: 0.2009 - acc: 0.9435 - val_loss: 0.1953 - val_acc: 0.9430\n",
      "Epoch 13/20\n",
      "60000/60000 [==============================] - 10s - loss: 0.1932 - acc: 0.9457 - val_loss: 0.1882 - val_acc: 0.9456\n",
      "Epoch 14/20\n",
      "60000/60000 [==============================] - 10s - loss: 0.1857 - acc: 0.9482 - val_loss: 0.1829 - val_acc: 0.9483\n",
      "Epoch 15/20\n",
      "60000/60000 [==============================] - 12s - loss: 0.1791 - acc: 0.9496 - val_loss: 0.1781 - val_acc: 0.9483\n",
      "Epoch 16/20\n",
      "60000/60000 [==============================] - 10s - loss: 0.1727 - acc: 0.9517 - val_loss: 0.1719 - val_acc: 0.9519\n",
      "Epoch 17/20\n",
      "60000/60000 [==============================] - 10s - loss: 0.1667 - acc: 0.9529 - val_loss: 0.1666 - val_acc: 0.9526\n",
      "Epoch 18/20\n",
      "60000/60000 [==============================] - 10s - loss: 0.1612 - acc: 0.9541 - val_loss: 0.1609 - val_acc: 0.9539\n",
      "Epoch 19/20\n",
      "60000/60000 [==============================] - 10s - loss: 0.1561 - acc: 0.9556 - val_loss: 0.1588 - val_acc: 0.9539\n",
      "Epoch 20/20\n",
      "60000/60000 [==============================] - 10s - loss: 0.1511 - acc: 0.9573 - val_loss: 0.1543 - val_acc: 0.9548\n",
      "Test loss: 0.154266804539\n",
      "Test accuracy: 0.9548\n"
     ]
    }
   ],
   "source": [
    "#Training model\n",
    "history = model.fit(x_train, y_train,\n",
    "                    batch_size=batch_size,\n",
    "                    epochs=epochs,\n",
    "                    verbose=1,\n",
    "                    validation_data=(x_test, y_test))\n",
    "#Evaluating model\n",
    "score = model.evaluate(x_test, y_test, verbose=0)\n",
    "print('Test loss:', score[0])\n",
    "print('Test accuracy:', score[1])"
   ]
  },
  {
   "cell_type": "markdown",
   "metadata": {},
   "source": [
    "## Result\n",
    "Increasing the number of epochs gave us better accuracy"
   ]
  },
  {
   "cell_type": "markdown",
   "metadata": {},
   "source": [
    "## Trying different batch size"
   ]
  },
  {
   "cell_type": "code",
   "execution_count": 35,
   "metadata": {
    "collapsed": true
   },
   "outputs": [],
   "source": [
    "batch_size=256"
   ]
  },
  {
   "cell_type": "code",
   "execution_count": 36,
   "metadata": {
    "collapsed": true
   },
   "outputs": [],
   "source": [
    "#Initialise model\n",
    "model = Sequential()\n",
    "#Add input and 1st hidden layer\n",
    "model.add(Dense(512, activation='relu', input_shape=(784,)))\n",
    "#Add 2nd hidden layer\n",
    "model.add(Dense(512, activation='relu'))\n",
    "#Add output layer\n",
    "model.add(Dense(num_classes, activation='softmax'))"
   ]
  },
  {
   "cell_type": "code",
   "execution_count": 37,
   "metadata": {},
   "outputs": [
    {
     "name": "stdout",
     "output_type": "stream",
     "text": [
      "_________________________________________________________________\n",
      "Layer (type)                 Output Shape              Param #   \n",
      "=================================================================\n",
      "dense_19 (Dense)             (None, 512)               401920    \n",
      "_________________________________________________________________\n",
      "dense_20 (Dense)             (None, 512)               262656    \n",
      "_________________________________________________________________\n",
      "dense_21 (Dense)             (None, 10)                5130      \n",
      "=================================================================\n",
      "Total params: 669,706\n",
      "Trainable params: 669,706\n",
      "Non-trainable params: 0\n",
      "_________________________________________________________________\n"
     ]
    }
   ],
   "source": [
    "#Print model information\n",
    "model.summary()"
   ]
  },
  {
   "cell_type": "code",
   "execution_count": 38,
   "metadata": {
    "collapsed": true
   },
   "outputs": [],
   "source": [
    "#Compiling model: Using categorical crossentropy loss function and sgd optimiser\n",
    "model.compile(loss='categorical_crossentropy',\n",
    "              optimizer=keras.optimizers.SGD(lr=0.01, momentum=0.0, nesterov=False),\n",
    "              metrics=['accuracy'])"
   ]
  },
  {
   "cell_type": "code",
   "execution_count": 39,
   "metadata": {},
   "outputs": [
    {
     "name": "stdout",
     "output_type": "stream",
     "text": [
      "Train on 60000 samples, validate on 10000 samples\n",
      "Epoch 1/20\n",
      "60000/60000 [==============================] - 9s - loss: 1.5178 - acc: 0.6753 - val_loss: 0.8609 - val_acc: 0.8378\n",
      "Epoch 2/20\n",
      "60000/60000 [==============================] - 9s - loss: 0.6703 - acc: 0.8524 - val_loss: 0.5153 - val_acc: 0.8775\n",
      "Epoch 3/20\n",
      "60000/60000 [==============================] - 9s - loss: 0.4801 - acc: 0.8778 - val_loss: 0.4172 - val_acc: 0.8947\n",
      "Epoch 4/20\n",
      "60000/60000 [==============================] - 9s - loss: 0.4086 - acc: 0.8905 - val_loss: 0.3680 - val_acc: 0.9037\n",
      "Epoch 5/20\n",
      "60000/60000 [==============================] - 9s - loss: 0.3696 - acc: 0.8980 - val_loss: 0.3390 - val_acc: 0.9103\n",
      "Epoch 6/20\n",
      "60000/60000 [==============================] - 5s - loss: 0.3438 - acc: 0.9041 - val_loss: 0.3192 - val_acc: 0.9142\n",
      "Epoch 7/20\n",
      "60000/60000 [==============================] - 4s - loss: 0.3250 - acc: 0.9092 - val_loss: 0.3043 - val_acc: 0.9167\n",
      "Epoch 8/20\n",
      "60000/60000 [==============================] - 4s - loss: 0.3102 - acc: 0.9128 - val_loss: 0.2917 - val_acc: 0.9190\n",
      "Epoch 9/20\n",
      "60000/60000 [==============================] - 3s - loss: 0.2975 - acc: 0.9159 - val_loss: 0.2818 - val_acc: 0.9215\n",
      "Epoch 10/20\n",
      "60000/60000 [==============================] - 5s - loss: 0.2870 - acc: 0.9184 - val_loss: 0.2726 - val_acc: 0.9258\n",
      "Epoch 11/20\n",
      "60000/60000 [==============================] - 4s - loss: 0.2774 - acc: 0.9211 - val_loss: 0.2648 - val_acc: 0.9249\n",
      "Epoch 12/20\n",
      "60000/60000 [==============================] - 3s - loss: 0.2688 - acc: 0.9238 - val_loss: 0.2585 - val_acc: 0.9287\n",
      "Epoch 13/20\n",
      "60000/60000 [==============================] - 4s - loss: 0.2613 - acc: 0.9259 - val_loss: 0.2519 - val_acc: 0.9301\n",
      "Epoch 14/20\n",
      "60000/60000 [==============================] - 4s - loss: 0.2541 - acc: 0.9275 - val_loss: 0.2457 - val_acc: 0.9306\n",
      "Epoch 15/20\n",
      "60000/60000 [==============================] - 4s - loss: 0.2474 - acc: 0.9294 - val_loss: 0.2399 - val_acc: 0.9324\n",
      "Epoch 16/20\n",
      "60000/60000 [==============================] - 3s - loss: 0.2412 - acc: 0.9316 - val_loss: 0.2356 - val_acc: 0.9334\n",
      "Epoch 17/20\n",
      "60000/60000 [==============================] - 4s - loss: 0.2354 - acc: 0.9327 - val_loss: 0.2294 - val_acc: 0.9356\n",
      "Epoch 18/20\n",
      "60000/60000 [==============================] - 4s - loss: 0.2298 - acc: 0.9344 - val_loss: 0.2253 - val_acc: 0.9359\n",
      "Epoch 19/20\n",
      "60000/60000 [==============================] - 4s - loss: 0.2245 - acc: 0.9364 - val_loss: 0.2196 - val_acc: 0.9377\n",
      "Epoch 20/20\n",
      "60000/60000 [==============================] - 4s - loss: 0.2194 - acc: 0.9382 - val_loss: 0.2155 - val_acc: 0.9390\n",
      "Test loss: 0.215541495086\n",
      "Test accuracy: 0.939\n"
     ]
    }
   ],
   "source": [
    "#Training model\n",
    "history = model.fit(x_train, y_train,\n",
    "                    batch_size=batch_size,\n",
    "                    epochs=epochs,\n",
    "                    verbose=1,\n",
    "                    validation_data=(x_test, y_test))\n",
    "#Evaluating model\n",
    "score = model.evaluate(x_test, y_test, verbose=0)\n",
    "print('Test loss:', score[0])\n",
    "print('Test accuracy:', score[1])"
   ]
  },
  {
   "cell_type": "markdown",
   "metadata": {},
   "source": [
    "## Result\n",
    "Increasing batch size didnt increase accuracy, it decreased infact so we'll be sticking to the old batch_size"
   ]
  },
  {
   "cell_type": "code",
   "execution_count": 40,
   "metadata": {
    "collapsed": true
   },
   "outputs": [],
   "source": [
    "batch_size=128"
   ]
  },
  {
   "cell_type": "markdown",
   "metadata": {},
   "source": [
    "Trying optimiser sgd with momentum"
   ]
  },
  {
   "cell_type": "code",
   "execution_count": 41,
   "metadata": {
    "collapsed": true
   },
   "outputs": [],
   "source": [
    "#Initialise model\n",
    "model = Sequential()\n",
    "#Add input and 1st hidden layer\n",
    "model.add(Dense(512, activation='relu', input_shape=(784,)))\n",
    "#Add 2nd hidden layer\n",
    "model.add(Dense(512, activation='relu'))\n",
    "#Add output layer\n",
    "model.add(Dense(num_classes, activation='softmax'))"
   ]
  },
  {
   "cell_type": "code",
   "execution_count": 42,
   "metadata": {},
   "outputs": [
    {
     "name": "stdout",
     "output_type": "stream",
     "text": [
      "_________________________________________________________________\n",
      "Layer (type)                 Output Shape              Param #   \n",
      "=================================================================\n",
      "dense_22 (Dense)             (None, 512)               401920    \n",
      "_________________________________________________________________\n",
      "dense_23 (Dense)             (None, 512)               262656    \n",
      "_________________________________________________________________\n",
      "dense_24 (Dense)             (None, 10)                5130      \n",
      "=================================================================\n",
      "Total params: 669,706\n",
      "Trainable params: 669,706\n",
      "Non-trainable params: 0\n",
      "_________________________________________________________________\n"
     ]
    }
   ],
   "source": [
    "#Print model information\n",
    "model.summary()"
   ]
  },
  {
   "cell_type": "code",
   "execution_count": 43,
   "metadata": {
    "collapsed": true
   },
   "outputs": [],
   "source": [
    "#Compiling model: Using categorical crossentropy loss function and sgd optimiser with momentum\n",
    "model.compile(loss='categorical_crossentropy',\n",
    "              optimizer=keras.optimizers.SGD(lr=0.01, momentum=0.9, nesterov=False),\n",
    "              metrics=['accuracy'])"
   ]
  },
  {
   "cell_type": "code",
   "execution_count": 44,
   "metadata": {},
   "outputs": [
    {
     "name": "stdout",
     "output_type": "stream",
     "text": [
      "Train on 60000 samples, validate on 10000 samples\n",
      "Epoch 1/20\n",
      "60000/60000 [==============================] - 5s - loss: 0.4347 - acc: 0.8792 - val_loss: 0.2182 - val_acc: 0.9381\n",
      "Epoch 2/20\n",
      "60000/60000 [==============================] - 5s - loss: 0.1952 - acc: 0.9437 - val_loss: 0.1587 - val_acc: 0.9531\n",
      "Epoch 3/20\n",
      "60000/60000 [==============================] - 5s - loss: 0.1428 - acc: 0.9590 - val_loss: 0.1479 - val_acc: 0.9551\n",
      "Epoch 4/20\n",
      "60000/60000 [==============================] - 5s - loss: 0.1131 - acc: 0.9677 - val_loss: 0.1045 - val_acc: 0.9685\n",
      "Epoch 5/20\n",
      "60000/60000 [==============================] - 4s - loss: 0.0914 - acc: 0.9738 - val_loss: 0.0974 - val_acc: 0.9698\n",
      "Epoch 6/20\n",
      "60000/60000 [==============================] - 4s - loss: 0.0764 - acc: 0.9780 - val_loss: 0.0880 - val_acc: 0.9720\n",
      "Epoch 7/20\n",
      "60000/60000 [==============================] - 4s - loss: 0.0644 - acc: 0.9812 - val_loss: 0.0843 - val_acc: 0.9739\n",
      "Epoch 8/20\n",
      "60000/60000 [==============================] - 6s - loss: 0.0559 - acc: 0.9847 - val_loss: 0.0743 - val_acc: 0.9763\n",
      "Epoch 9/20\n",
      "60000/60000 [==============================] - 6s - loss: 0.0478 - acc: 0.9867 - val_loss: 0.0723 - val_acc: 0.9769\n",
      "Epoch 10/20\n",
      "60000/60000 [==============================] - 5s - loss: 0.0418 - acc: 0.9886 - val_loss: 0.0710 - val_acc: 0.9791\n",
      "Epoch 11/20\n",
      "60000/60000 [==============================] - 6s - loss: 0.0363 - acc: 0.9905 - val_loss: 0.0692 - val_acc: 0.9783\n",
      "Epoch 12/20\n",
      "60000/60000 [==============================] - 4s - loss: 0.0320 - acc: 0.9914 - val_loss: 0.0726 - val_acc: 0.9773\n",
      "Epoch 13/20\n",
      "60000/60000 [==============================] - 5s - loss: 0.0281 - acc: 0.9931 - val_loss: 0.0669 - val_acc: 0.9784\n",
      "Epoch 14/20\n",
      "60000/60000 [==============================] - 4s - loss: 0.0237 - acc: 0.9944 - val_loss: 0.0658 - val_acc: 0.9793\n",
      "Epoch 15/20\n",
      "60000/60000 [==============================] - 4s - loss: 0.0210 - acc: 0.9953 - val_loss: 0.0652 - val_acc: 0.9793\n",
      "Epoch 16/20\n",
      "60000/60000 [==============================] - 4s - loss: 0.0184 - acc: 0.9962 - val_loss: 0.0629 - val_acc: 0.9802\n",
      "Epoch 17/20\n",
      "60000/60000 [==============================] - 5s - loss: 0.0162 - acc: 0.9968 - val_loss: 0.0632 - val_acc: 0.9806\n",
      "Epoch 18/20\n",
      "60000/60000 [==============================] - 4s - loss: 0.0138 - acc: 0.9979 - val_loss: 0.0637 - val_acc: 0.9805\n",
      "Epoch 19/20\n",
      "60000/60000 [==============================] - 4s - loss: 0.0124 - acc: 0.9981 - val_loss: 0.0629 - val_acc: 0.9802\n",
      "Epoch 20/20\n",
      "60000/60000 [==============================] - 4s - loss: 0.0110 - acc: 0.9986 - val_loss: 0.0620 - val_acc: 0.9816\n",
      "Test loss: 0.0619707350643\n",
      "Test accuracy: 0.9816\n"
     ]
    }
   ],
   "source": [
    "#Training model\n",
    "history = model.fit(x_train, y_train,\n",
    "                    batch_size=batch_size,\n",
    "                    epochs=epochs,\n",
    "                    verbose=1,\n",
    "                    validation_data=(x_test, y_test))\n",
    "#Evaluating model\n",
    "score = model.evaluate(x_test, y_test, verbose=0)\n",
    "print('Test loss:', score[0])\n",
    "print('Test accuracy:', score[1])"
   ]
  },
  {
   "cell_type": "markdown",
   "metadata": {},
   "source": [
    "## Trying out adagrad optimser"
   ]
  },
  {
   "cell_type": "code",
   "execution_count": 45,
   "metadata": {
    "collapsed": true
   },
   "outputs": [],
   "source": [
    "#Initialise model\n",
    "model = Sequential()\n",
    "#Add input and 1st hidden layer\n",
    "model.add(Dense(512, activation='relu', input_shape=(784,)))\n",
    "#Add 2nd hidden layer\n",
    "model.add(Dense(512, activation='relu'))\n",
    "#Add output layer\n",
    "model.add(Dense(num_classes, activation='softmax'))"
   ]
  },
  {
   "cell_type": "code",
   "execution_count": 46,
   "metadata": {
    "collapsed": true
   },
   "outputs": [],
   "source": [
    "#Compiling model: Using categorical crossentropy loss function and adagrad optimiser\n",
    "model.compile(loss='categorical_crossentropy',\n",
    "              optimizer='Adagrad',\n",
    "              metrics=['accuracy'])"
   ]
  },
  {
   "cell_type": "code",
   "execution_count": 47,
   "metadata": {},
   "outputs": [
    {
     "name": "stdout",
     "output_type": "stream",
     "text": [
      "Train on 60000 samples, validate on 10000 samples\n",
      "Epoch 1/20\n",
      "60000/60000 [==============================] - 17s - loss: 0.2183 - acc: 0.9373 - val_loss: 0.0926 - val_acc: 0.9701\n",
      "Epoch 2/20\n",
      "60000/60000 [==============================] - 18s - loss: 0.0751 - acc: 0.9777 - val_loss: 0.0778 - val_acc: 0.9736\n",
      "Epoch 3/20\n",
      "60000/60000 [==============================] - 19s - loss: 0.0496 - acc: 0.9855 - val_loss: 0.0695 - val_acc: 0.9784\n",
      "Epoch 4/20\n",
      "60000/60000 [==============================] - 18s - loss: 0.0350 - acc: 0.9904 - val_loss: 0.0611 - val_acc: 0.9802\n",
      "Epoch 5/20\n",
      "60000/60000 [==============================] - 17s - loss: 0.0254 - acc: 0.9936 - val_loss: 0.0595 - val_acc: 0.9821\n",
      "Epoch 6/20\n",
      "60000/60000 [==============================] - 17s - loss: 0.0186 - acc: 0.9959 - val_loss: 0.0577 - val_acc: 0.9820\n",
      "Epoch 7/20\n",
      "60000/60000 [==============================] - 12s - loss: 0.0141 - acc: 0.9972 - val_loss: 0.0639 - val_acc: 0.9810\n",
      "Epoch 8/20\n",
      "60000/60000 [==============================] - 12s - loss: 0.0109 - acc: 0.9981 - val_loss: 0.0588 - val_acc: 0.9824\n",
      "Epoch 9/20\n",
      "60000/60000 [==============================] - 13s - loss: 0.0083 - acc: 0.9989 - val_loss: 0.0582 - val_acc: 0.9830\n",
      "Epoch 10/20\n",
      "60000/60000 [==============================] - 16s - loss: 0.0064 - acc: 0.9993 - val_loss: 0.0593 - val_acc: 0.9821\n",
      "Epoch 11/20\n",
      "60000/60000 [==============================] - 17s - loss: 0.0052 - acc: 0.9995 - val_loss: 0.0593 - val_acc: 0.9836\n",
      "Epoch 12/20\n",
      "60000/60000 [==============================] - 18s - loss: 0.0042 - acc: 0.9997 - val_loss: 0.0609 - val_acc: 0.9830\n",
      "Epoch 13/20\n",
      "60000/60000 [==============================] - 18s - loss: 0.0035 - acc: 0.9998 - val_loss: 0.0601 - val_acc: 0.9829\n",
      "Epoch 14/20\n",
      "60000/60000 [==============================] - 16s - loss: 0.0029 - acc: 0.9999 - val_loss: 0.0604 - val_acc: 0.9839\n",
      "Epoch 15/20\n",
      "60000/60000 [==============================] - 18s - loss: 0.0025 - acc: 0.9999 - val_loss: 0.0612 - val_acc: 0.9833\n",
      "Epoch 16/20\n",
      "60000/60000 [==============================] - 19s - loss: 0.0021 - acc: 1.0000 - val_loss: 0.0612 - val_acc: 0.9835\n",
      "Epoch 17/20\n",
      "60000/60000 [==============================] - 18s - loss: 0.0019 - acc: 1.0000 - val_loss: 0.0629 - val_acc: 0.9834\n",
      "Epoch 18/20\n",
      "60000/60000 [==============================] - 17s - loss: 0.0016 - acc: 1.0000 - val_loss: 0.0631 - val_acc: 0.9839\n",
      "Epoch 19/20\n",
      "60000/60000 [==============================] - 18s - loss: 0.0014 - acc: 1.0000 - val_loss: 0.0638 - val_acc: 0.9829\n",
      "Epoch 20/20\n",
      "60000/60000 [==============================] - 17s - loss: 0.0013 - acc: 1.0000 - val_loss: 0.0644 - val_acc: 0.9835\n",
      "Test loss: 0.0644385387423\n",
      "Test accuracy: 0.9835\n"
     ]
    }
   ],
   "source": [
    "#Training model\n",
    "history = model.fit(x_train, y_train,\n",
    "                    batch_size=batch_size,\n",
    "                    epochs=epochs,\n",
    "                    verbose=1,\n",
    "                    validation_data=(x_test, y_test))\n",
    "#Evaluating model\n",
    "score = model.evaluate(x_test, y_test, verbose=0)\n",
    "print('Test loss:', score[0])\n",
    "print('Test accuracy:', score[1])"
   ]
  },
  {
   "cell_type": "markdown",
   "metadata": {},
   "source": [
    "# Result\n",
    "Adagrad optimiser gives us the best accuracy of 98.35%"
   ]
  },
  {
   "cell_type": "markdown",
   "metadata": {},
   "source": [
    "## Plotting loss and accuracy of this model"
   ]
  },
  {
   "cell_type": "code",
   "execution_count": 50,
   "metadata": {
    "collapsed": true
   },
   "outputs": [],
   "source": [
    "#Function to plot loss and accuracy\n",
    "def plot_model_history(model_history):\n",
    "    fig, axs = plt.subplots(1,2,figsize=(15,5))\n",
    "    # summarize history for accuracy\n",
    "    axs[0].plot(range(1,len(model_history.history['acc'])+1),model_history.history['acc'])\n",
    "    axs[0].plot(range(1,len(model_history.history['val_acc'])+1),model_history.history['val_acc'])\n",
    "    axs[0].set_title('Model Accuracy')\n",
    "    axs[0].set_ylabel('Accuracy')\n",
    "    axs[0].set_xlabel('Epoch')\n",
    "    axs[0].set_xticks(np.arange(1,len(model_history.history['acc'])+1),len(model_history.history['acc'])/10)\n",
    "    axs[0].legend(['train', 'val'], loc='best')\n",
    "    # summarize history for loss\n",
    "    axs[1].plot(range(1,len(model_history.history['loss'])+1),model_history.history['loss'])\n",
    "    axs[1].plot(range(1,len(model_history.history['val_loss'])+1),model_history.history['val_loss'])\n",
    "    axs[1].set_title('Model Loss')\n",
    "    axs[1].set_ylabel('Loss')\n",
    "    axs[1].set_xlabel('Epoch')\n",
    "    axs[1].set_xticks(np.arange(1,len(model_history.history['loss'])+1),len(model_history.history['loss'])/10)\n",
    "    axs[1].legend(['train', 'val'], loc='best')\n",
    "    plt.show()"
   ]
  },
  {
   "cell_type": "code",
   "execution_count": 51,
   "metadata": {},
   "outputs": [
    {
     "data": {
      "image/png": "[encoded data removed]",
      "text/plain": [
       "<matplotlib.figure.Figure at 0x7ff97f4cd7b8>"
      ]
     },
     "metadata": {},
     "output_type": "display_data"
    }
   ],
   "source": [
    "plot_model_history(history)"
   ]
  },
  {
   "cell_type": "markdown",
   "metadata": {},
   "source": [
    "# Result\n",
    "Best Results were obtained with\n",
    "2 hidden layers of 512 nodes each with 'relu' activation and an output layer with 'softmax' activation\n",
    "The Adagrad optimiser gave us the best result with an accuracy of 98.35%"
   ]
  }
 ],
 "metadata": {
  "kernelspec": {
   "display_name": "Python 3",
   "language": "python",
   "name": "python3"
  },
  "language_info": {
   "codemirror_mode": {
    "name": "ipython",
    "version": 3
   },
   "file_extension": ".py",
   "mimetype": "text/x-python",
   "name": "python",
   "nbconvert_exporter": "python",
   "pygments_lexer": "ipython3",
   "version": "3.6.3"
  }
 },
 "nbformat": 4,
 "nbformat_minor": 2
}
